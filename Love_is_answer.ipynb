{
 "cells": [
  {
   "cell_type": "code",
   "execution_count": 2,
   "metadata": {},
   "outputs": [],
   "source": [
    "import lightgbm as lgb\n",
    "from sklearn import *\n",
    "import pandas as pd\n",
    "import numpy as np"
   ]
  },
  {
   "cell_type": "code",
   "execution_count": 3,
   "metadata": {},
   "outputs": [
    {
     "name": "stdout",
     "output_type": "stream",
     "text": [
      "(4459, 4993) (49342, 4992)\n"
     ]
    }
   ],
   "source": [
    "train = pd.read_csv('./input/train.csv')\n",
    "test = pd.read_csv('./input/test.csv')\n",
    "print(train.shape, test.shape)"
   ]
  },
  {
   "cell_type": "code",
   "execution_count": 4,
   "metadata": {},
   "outputs": [],
   "source": [
    "from PIL import Image, ImageDraw, ImageColor\n",
    "\n",
    "col = [c for c in train.columns if c not in ['ID', 'target']]\n",
    "xtrain = train[col].copy().values\n",
    "target = train['target'].values\n",
    "\n",
    "im = Image.new('RGBA', xtrain.shape)\n",
    "wh = ImageColor.getrgb('white')\n",
    "re = ImageColor.getrgb('red')\n",
    "gr = ImageColor.getrgb('green')\n",
    "ga = ImageColor.getrgb('gray')\n",
    "\n",
    "for x in range(xtrain.shape[0]):\n",
    "    for y in range(xtrain.shape[1]):\n",
    "        if xtrain[x][y] == 0:\n",
    "            im.putpixel((x,y), wh)\n",
    "        elif xtrain[x][y] == target[x]:\n",
    "            im.putpixel((x,y), re)\n",
    "        elif (np.abs(xtrain[x][y] - target[x]) / target[x]) < 0.05:\n",
    "            im.putpixel((x,y), gr)\n",
    "        else:\n",
    "            im.putpixel((x,y), ga)\n",
    "im.save('leak.bmp')\n"
   ]
  },
  {
   "cell_type": "code",
   "execution_count": 5,
   "metadata": {},
   "outputs": [],
   "source": [
    "Giba_col = ['f190486d6', '58e2e02e6', 'eeb9cd3aa', '9fd594eec', '6eef030c1',\n",
    "       '15ace8c9f', 'fb0f5dbfe', '58e056e12', '20aa07010', '024c577b9',\n",
    "       'd6bb78916', 'b43a7cfd5', '58232a6fb', '1702b5bf0', '324921c7b', \n",
    "       '62e59a501', '2ec5b290f', '241f0f867', 'fb49e4212',  '66ace2992',\n",
    "       'f74e8f13d', '5c6487af1', '963a49cdc', '26fc93eb7', '1931ccfdd', \n",
    "       '703885424', '70feb1494', '491b9ee45', '23310aa6f', 'e176a204a',\n",
    "       '6619d81fc', '1db387535', 'fc99f9426', '91f701ba2',  '0572565c2',\n",
    "       '190db8488',  'adb64ff71', 'c47340d97', 'c5a231d81', '0ff32eb98'] "
   ]
  },
  {
   "cell_type": "code",
   "execution_count": 6,
   "metadata": {},
   "outputs": [],
   "source": [
    "count = dict()\n",
    "for x in range(xtrain.shape[0]):\n",
    "    count[x] = []\n",
    "    for y in range(xtrain.shape[1]):\n",
    "        if xtrain[x][y] == 0:\n",
    "            pass\n",
    "        elif (xtrain[x][y] == target[x] and target[x] != 0):\n",
    "            count[x] += [y]\n",
    "        elif (np.abs(xtrain[x][y] - target[x]) / target[x]) < 0.05:\n",
    "            pass\n",
    "        else:\n",
    "            pass"
   ]
  },
  {
   "cell_type": "code",
   "execution_count": 7,
   "metadata": {
    "scrolled": true
   },
   "outputs": [],
   "source": [
    "num_ans = 0\n",
    "col_count = dict()\n",
    "for i,j in count.items():\n",
    "    if len(j) != 0:\n",
    "        num_ans += 1\n",
    "        for k in j:\n",
    "            if k not in col_count.keys():\n",
    "                col_count[k] = 1\n",
    "            else:\n",
    "                col_count[k] += 1 \n",
    "                "
   ]
  },
  {
   "cell_type": "code",
   "execution_count": 8,
   "metadata": {},
   "outputs": [],
   "source": [
    "num_leak_col = 0\n",
    "name_leak_col = []\n",
    "for i,j in col_count.items():\n",
    "    if j >= 28:\n",
    "        num_leak_col += 1\n",
    "        name_leak_col += [col[i]]\n",
    "\n",
    "check_count = 0        \n",
    "for i in  Giba_col:\n",
    "    if i in name_leak_col:\n",
    "        check_count += 1\n",
    "    else:\n",
    "        print(i)"
   ]
  },
  {
   "cell_type": "code",
   "execution_count": 9,
   "metadata": {},
   "outputs": [
    {
     "data": {
      "text/plain": [
       "['f190486d6',\n",
       " 'eeb9cd3aa',\n",
       " '58e2e02e6',\n",
       " '8e4d0fe45',\n",
       " '23310aa6f',\n",
       " 'f74e8f13d',\n",
       " '9fd594eec',\n",
       " 'a6b6bc34a',\n",
       " 'fb0f5dbfe',\n",
       " '0ff32eb98',\n",
       " 'c47340d97',\n",
       " '6df033973',\n",
       " '491b9ee45',\n",
       " 'e078302ef',\n",
       " 'fb49e4212',\n",
       " '6619d81fc',\n",
       " '2ec5b290f',\n",
       " 'b7c931383',\n",
       " '1fe5d56b9',\n",
       " 'a9f61cf27',\n",
       " '6c5c8869c',\n",
       " '324921c7b',\n",
       " 'd6bb78916',\n",
       " '4bcf15776',\n",
       " '1702b5bf0',\n",
       " 'c5a231d81',\n",
       " '703885424',\n",
       " '2e103d632',\n",
       " '70feb1494',\n",
       " '20aa07010',\n",
       " '963a49cdc',\n",
       " '26fc93eb7',\n",
       " '0572565c2',\n",
       " '6eef030c1',\n",
       " '1c71183bb',\n",
       " 'ce3d7595b',\n",
       " 'b43a7cfd5',\n",
       " '024c577b9',\n",
       " '58e056e12',\n",
       " 'd5fa73ead',\n",
       " 'f6eba969e',\n",
       " 'ca2b906e8',\n",
       " '15ace8c9f',\n",
       " '0d51722ca',\n",
       " '241f0f867',\n",
       " '87ffda550',\n",
       " '63c094ba4',\n",
       " '62e59a501',\n",
       " 'f02ecb19c',\n",
       " 'df838756c',\n",
       " '66ace2992',\n",
       " 'fc99f9426',\n",
       " '58232a6fb',\n",
       " '91f701ba2',\n",
       " '5c6487af1',\n",
       " '122c135ed',\n",
       " 'e176a204a',\n",
       " '68a945b18',\n",
       " 'adb64ff71',\n",
       " '1db387535',\n",
       " '44d5b820f',\n",
       " '190db8488',\n",
       " '1931ccfdd']"
      ]
     },
     "execution_count": 9,
     "metadata": {},
     "output_type": "execute_result"
    }
   ],
   "source": [
    "name_leak_col"
   ]
  },
  {
   "cell_type": "code",
   "execution_count": null,
   "metadata": {},
   "outputs": [],
   "source": []
  },
  {
   "cell_type": "code",
   "execution_count": null,
   "metadata": {},
   "outputs": [],
   "source": []
  }
 ],
 "metadata": {
  "kernelspec": {
   "display_name": "Python 3",
   "language": "python",
   "name": "python3"
  },
  "language_info": {
   "codemirror_mode": {
    "name": "ipython",
    "version": 3
   },
   "file_extension": ".py",
   "mimetype": "text/x-python",
   "name": "python",
   "nbconvert_exporter": "python",
   "pygments_lexer": "ipython3",
   "version": "3.6.2"
  }
 },
 "nbformat": 4,
 "nbformat_minor": 2
}
