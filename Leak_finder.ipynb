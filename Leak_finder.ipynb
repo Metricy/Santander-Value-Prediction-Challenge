{
 "cells": [
  {
   "cell_type": "code",
   "execution_count": 2,
   "metadata": {},
   "outputs": [],
   "source": [
    "import os\n",
    "import gc\n",
    "import numpy as np\n",
    "import pandas as pd\n",
    "from tqdm import tqdm\n",
    "hex2dec = lambda x: int(x, 16)"
   ]
  },
  {
   "cell_type": "code",
   "execution_count": 548,
   "metadata": {},
   "outputs": [],
   "source": [
    "train = pd.read_csv('./input/train.csv')\n",
    "total = pd.read_csv(\"./input/total.csv\")"
   ]
  },
  {
   "cell_type": "code",
   "execution_count": 4,
   "metadata": {},
   "outputs": [],
   "source": [
    "giba_rows = [1757, 3809, 511, 3798, 625, 3303, 4095, 1283, 4209, \n",
    "             1696, 3511, 816, 245, 1383, 2071, 3492, 378, 2971, \n",
    "             2366, 4414, 2790, 3979, 193, 1189, 3516, 810, 4443, \n",
    "             3697, 235, 1382, 4384, 3418, 4396, 921, 3176, 650]\n",
    "giba_cols = ['f190486d6', '58e2e02e6', 'eeb9cd3aa', '9fd594eec', '6eef030c1', \n",
    "             '15ace8c9f', 'fb0f5dbfe', '58e056e12', '20aa07010', '024c577b9', \n",
    "             'd6bb78916', 'b43a7cfd5', '58232a6fb', '1702b5bf0', '324921c7b', \n",
    "             '62e59a501', '2ec5b290f', '241f0f867', 'fb49e4212', '66ace2992', \n",
    "             'f74e8f13d', '5c6487af1', '963a49cdc', '26fc93eb7', '1931ccfdd', \n",
    "             '703885424', '70feb1494', '491b9ee45', '23310aa6f', 'e176a204a', \n",
    "             '6619d81fc', '1db387535', 'fc99f9426', '91f701ba2', '0572565c2', \n",
    "             '190db8488', 'adb64ff71', 'c47340d97', 'c5a231d81', '0ff32eb98']"
   ]
  },
  {
   "cell_type": "code",
   "execution_count": 5,
   "metadata": {},
   "outputs": [],
   "source": [
    "paradox_cols = ['ced6a7e91', '9df4daa99', '83c3779bf', 'edc84139a', 'f1e0ada11', \n",
    "                '73687e512', 'aa164b93b', '342e7eb03', 'cd24eae8a', '8f3740670', \n",
    "                '2b2a10857', 'a00adf70e', '3a48a2cd2', 'a396ceeb9', '9280f3d04', \n",
    "                'fec5eaf1a', '5b943716b', '22ed6dba3', '5547d6e11', 'e222309b0', \n",
    "                '5d3b81ef8', '1184df5c2', '2288333b4', 'f39074b55', 'a8b721722', \n",
    "                '13ee58af1', 'fb387ea33', '4da206d28', 'ea4046b8d', 'ef30f6be5', \n",
    "                'b85fa8b27', '2155f5e16', '794e93ca6', '070f95c99', '939f628a7', \n",
    "                '7e814a30d', 'a6e871369', '0dc4d6c7d', 'bc70cbc26', 'aca228668']\n",
    "\n",
    "paradox_rows_name = ['a70090dc7','5b74875d4','ca6c4ea0d','242407fc6','7ff66b22b',\n",
    "                     'f43a48254','c9573f4ac','c14136677','08f544828','e77e32574',\n",
    "                     '61636fa41','4c0316d32','414871b56','2c518cd87','9eb93baef',\n",
    "                     'd63b2307d','db9ddeb12','7e45f5bd5','680ecfac8','814f58e7b',\n",
    "                     'eb850ef06','6edaf114d']\n",
    "\n",
    "paradox_rows = []\n",
    "for prn in paradox_rows_name:\n",
    "    paradox_rows.append(train[train.ID == prn].index[0])"
   ]
  },
  {
   "cell_type": "code",
   "execution_count": 18,
   "metadata": {},
   "outputs": [
    {
     "data": {
      "text/plain": [
       "array([2848, 1582, 3509,  626, 2191, 4261, 3493, 3340,  156, 4040, 1681,\n",
       "       1311, 1125,  774, 2700, 3742, 3843, 2162, 1778, 2217, 4109, 1918])"
      ]
     },
     "execution_count": 18,
     "metadata": {},
     "output_type": "execute_result"
    }
   ],
   "source": [
    "np.array(paradox_rows)"
   ]
  },
  {
   "cell_type": "code",
   "execution_count": 394,
   "metadata": {},
   "outputs": [],
   "source": [
    "#extreme_w_unodered_0 = [ 'bc3f77679','a8c320153','6035df6d8','51ebff825','fd1187d68','cfa24e4be','ac2392a17','21216a0a8','4b2316bd5','08565b519','62e587225','43727fb35','6760927a0','dd16bb1ff','20868afc1','037a54e89','4a6f8b2c1','717039eef','9e88cfd02','09e395f05','c0d363088','7acda93e6','acdef5318','0f5fb7fe7','d7f1f9e52','d313c892b','3b8208d28','75e55b7a9','bcc18dd40','0d8f892fe','f10717d56','ff08cfbbe','41fb39de4','207871d87','f4e243e21','7e0fd6d92','a46587cda','965fa6747','a72fcabd8','df3ac443c' ]\n",
    "#extreme_w_unodered_1 = [ '42fdff3a0','77eb013ca','186b87c05','0c4bf4863','fa6e76901','5661462ee','707f193d9','8e1822aa3','8ca08456c','1fba6a5d5','b41a9fc75','9d6b84f39','cbf236577','3adf5e2b5','dd85a900c','ed1f680d4','2daf6b624','fd9968f0d','9562ce5c8','ec5764030','a60027bb4','a60974604','adadb9a96','715fa74a4','f8b733d3f','e7071d5e3','8485abcab','cd8048913','1c486f8dd','6e76d5df3','50780ec40','4f2f6b0b3','e5ac02d3c','994b4c2ac','6bd9d9ae3','6af8b2246','e17f1f07c','ccb68477c','c7ae29e66','896d1c52d' ]\n",
    "#extreme_w_unodered_2 = [ '82ba7a053','d168174c7','75aad4520','455f29419','61efa1e29','6a055c4fb','9a179ed71','9161061c9','dae4d14b4','38df6c628','ba5bbaffc','e171bccbe','5860d7fa9','22dbe574a','d3022e2f1','31a3f920c','30768bc79','37426563f','509e911f0','d7cdd8aef','3696a15a7','f1fbe249b','18c0b76e9','f269ec9c8','ffd2f9409','1fbbd4edf','50aaba7f1','b791ce9aa','0ccd5ff1c','1e1cb47f3','9c36a77b3','7b31055f1','d6a122efd','9d6410ef5','a76ad8513','86eb6ec85','0cad4d7af','1a82869a6','6d0d72180','ed5af35f0' ]\n",
    "#extreme_w_unodered_3 = [ '0badd2fa2','6cd2424c4','a6fd11a84','284d07c28','e506de1e1','693972ceb','ce408348f','a1f73b0d3','864b62f7d','bea06dade','f98d7054f','51ee03895','a47445036','b261b0abe','c333aa06c','a924cf47a','c85a3dcc4','afa9b3198','8c922fa9a','1f0a4e1f9','4d294d2cf','6ba70f5f8','c47fe5e84','e5587ec32','4411325ed','91fd68481','8706aa459','090fba3ad','0809c8241','0c49d75af','9f5a3b3c0','b67c7783e','00b309c64','0761cbb48','903749e8a','7bddf55e1','ae3aa1abd','4d1f9e4d7','daedcafad','e369704a1' ]\n",
    "#extreme_w_unodered_4 = [ 'ea18d720e','2f92a1a45','c98c2d3c0','b0b1c81ac','3be79d4a5','f926a4cb4','94ecf4c83','937854db6','a5e0d3ddb','1d744ff92','d8ea347e9','b47be7e76','f7eee8212','ccc9ba695','2e55d0383','36cde3ce8','945dad481','bee71cf84','a43c53c45','3af1785ee','172a58959','f471e9e82','ecd4c66ec','bec7c48dd','850e01a62','eb7981dd4','6045a2949','56a21fe66','9847e14d8','30a47af70','a388d3605','1998aa946','3f382323a','bf6e38e39','ab8a614fa','d66bbb5ed','809a511d0','b33e83cdc','76e092b8c','56ec098a1' ]\n",
    "#extreme_w_unodered_5 = [ 'adf119b9a','c44348d76','aebe1ea16','600ea672f','6c4f594e0','32a0342e2','b26d16167','150dc0956','ca58e6370','50a0d7f71','227ff4085','482715cbd','dda820122','8d13d891d','1fcba48d0','b0095ae64','2fc5bfa65','09c81e679','61483a9da','6ff9b1760','b9f75e4aa','1c62e29a7','9509f66b0','f81c2f1dd','3dd64f4c4','4bf056f35','5878b703c','70f4f1129','29725e10e','0d1af7370','a8110109e','423058dba','026ca57fd','aacffd2f4','7c1af7bbb','db027dbaf','03c589fd7','49e68fdb9','8d12d44e1','930f989bf' ]\n",
    "#extreme_w_unodered_6 = [ '9d435a85b','ed0860a34','f2af9300f','78bc2558b','4a93ad962','ca25aad9f','d92ea0b2a','a235f5488','6ae0787f3','92ba988e1','c5c073bb0','4e1a8f6eb','60cd556c9','704e2dc55','fa1efdadd','73361d959','b19e65a65','f32763afc','13f7f9c70','c89ae4ce0','783ee6e9a','fb6da0420','f3b6dabf7','8d035d41e','4ef309fc3','61063fa1c','ffd50f0bf','150504397','9bb02469c','1b1a893f5','0aab2f918','635fbbd2c','6d46740f1','4569d5378','8d4b52f9a','6610f90f1','22f05c895','5fad07863','b904b8345','85dcc913d' ]\n",
    "#extreme_w_unodered_7 = [ '2cb4d123e','645b47cde','ac61229b6','cc9c2fc87','ae825156f','c83d6b24d','f06078487','1ced7f0b4','48282f315','936dc3bc4','900045349','dee843499','65266ad22','e94c03517','1bf2dfd4a','882a3da34','1604c0735','a8e15505d','95a2e29fc','b9a4f06cd','090dfb7e2','71c2f04c9','67e6c62b9','56896bb36','6ccaaf2d7','1af96abeb','50603ae3d','4b1a994cc','da3b0b5bb','50b1dd40f','bf89fac56','a79522786','0e1921717','5b233cf72','df28ac53d','f9378f7ef','90a2428a5','320931ca8','f5723deba','8132d18b8' ]\n",
    "#extreme_w_unodered_8 = [ 'ee7e4581d','3770cb9fa','133714358','4e98771c9','b728093e6','f18d3931b','87ba106d3','29bf806d6','055232767','e8d16b5b5','7f3479656','890d30d93','dacebaeaf','04ef53271','c6cbb2938','16be01500','211314d56','174bec4d1','4a9e09bff','15b0fe826','f7b2550f2','4f0b30912','57412a852','44c06f79a','c95423453','8ca717e6d','b4a4a4df8','d5d85bc77','963c9c0ac','59d2470ed','5c20afdb3','5c0b5d1d4','366841793','13a2ecd25','dc6902c31','3974799dd','3bb7bc789','84d4d30b8','538df95cd','a48a740ef' ]\n",
    "#extreme_w_unodered_9 = [ '3e0e55648','fd206ec4d','3da2882fd','78c239acf','acee6ff41','e9c7ccc05','f2520b601','08d203407','2135da74a','5a88e3d89','75d240f7b','16a9296fd','b0e45a9f7','28dc3cc44','e2b4d4ef7','6a3b5a968','50a900e26','10596ddee','9bed59a71','376474413','c63090352','08af3dd45','df1ed6b50','2c136905e','4d9538272','8c564ae48','60b76e463','f8de3e357','4bf2b8e7c','7b1ddbabf','fbe52b1b2','b6e38a517','06b19b6c4','2bf7dc91d','890163e1a','93c1eecb4','736fce873','0892b3439','ca4eab5c5','683d89bf1' ]\n",
    "#extreme_w_unodered_10 = [ '151d318cd','e034322f0','72505ebb2','9c3f5714f','b0d770462','bef84d3ad','94ef80b78','2de8d5d54','85816f8e3','06ec9eb8b','4a14d4e94','dd51d0fae','219982fda','65f701080','2cdaafb1a','66671ad38','92c5f86c3','e8abdb1f5','a74f5bb0f','3027b873d','8ab2f764a','c0085a739','6b0c3789e','860bf7c04','c2cfc2003','e52260590','3429017f8','e0df7616e','6dd2090e5','94efcb8df','e70581bed','d9a8918f9','2193fe798','148f36817','9121c8d1b','8136ce6e4','a98f8a4ca','066566b35','c0f5174c7','b3058e9ba' ]\n",
    "#extreme_w_unodered_11 = [ 'b0f5ed414','7eacd712f','770bef1c6','ebaaead05','1e783ae1e','ca010e4f8','8cc831c8b','54a1765cc','a20b1603b','07c9d1f37','d709df8f9','f960e93ae','ce47f8cae','7417a6759','c83ce87d0','78144b68c','7ba2e35d6','ad7fbe4b5','e84eed5ae','4ca7f1312','27c5d13c9','c90b0b8a7','260ff750c','b169c8b90','43d99f930','ee99f8a68','9488c30e3','f9870621e','ff793343c','b5b797f71','8ff55a752','d4c72ccf2','2e51c4645','25a2e8b49','fe758841a','fb59499f9','1c2a63f01','027e67ec7','a4bbe86e5','939ae6e4a' ]\n",
    "#extreme_w_unodered_12 = [ 'ff3ebf76b','cbeddb751','ac308c9a3','76a75bd91','3dc46e323','c593d73e8','3b6f67b0e','ec827621a','5509e2e98','4685cc47b','06a1c3b47','258412544','d3245937e','440d789c5','372daeab0','7250feb72','0106dd950','c9eda7d9c','964cd68bc','9e0c57b34','615cc4c17','0f81cc1d2','3855aef1e','6cf9184bb','18cad608c','42b407f0d','05f1b68b8','e9c45d66f','850d3a6f5','6809065b9','ed8ff54b5','22b3971f5','39896d3dd','44d132265','10f17bd3e','c7fd9abc6','414b74eaa','6984f4045','f23b7530c','ca04a07ca' ]\n",
    "#extreme_w_unodered_13 = [ 'fe0dd1a15','e700276a2','f1c272f04','ccf6632e6','c059f2574','de63b3487','33e4f9a0e','946d16369','3a89d003b','9a1d8054b','988518e2d','d53d64307','d746efbfe','4c835bd02','800f38b6b','f0eb7b98f','854e37761','56cb93fd8','b77c707ef','6a542a40a','e4e9c8cc6','ff3b49c1d','3a7771f56','b22eb2036','bb6f50464','1029d9146','b3abb64d2','5807de036','d7447b2c5','1f71b76c1','fe28836c3','0c9b00a91','e36687647','5a6a1ec1a','d58172aef','1f8415d03','da7f4b066','a9819bda9','759c9e85d','ea26c7fe6' ]\n",
    "#extreme_w_unodered_14 = [ '77fa93749','1791b43b0','9f5f58e61','4ec3bfda8','b5df42e10','e585cbf20','b02dfb243','06148867b','d7f15a3ad','9a5cd5171','83e3e2e60','f5e0f4a16','71f5ab59f','b1c5346c4','ccd9fc164','c91a4f722','e769ee40d','518b5da24','42ed6824a','761b8e0ec','a9ca6c2f4','03055cc36','bb0408d98','ee7fb1067','632fed345','cfd55f2b6','74a7b9e4a','d93058147','3c9db4778','177993dc6','3fa0b1c53','07df9f30c','f8a437c00','f04f0582d','60a5b79e4','bca395b73','5edd220bc','1010d7174','20a325694','c901e7df1' ]\n",
    "#extreme_w_unodered_15 = [ '64534cc93','0e1f6696a','6d2ece683','ba136ae3f','ac30af84a','994b946ad','64dd02e44','e4159c59e','197cb48af','9c42bff81','8479174c2','018ab6a80','ea4887e6b','c671db79e','7121c40ee','415094079','44cb9b7c4','d4c1de0e2','2570e2ba9','578eda8e0','3a62b36bd','e1d0e11b5','ba4ceabc5','097c7841e','f9847e9fe','aeff360c7','96b6bd42b','6192f193d','d79736965','578b81a77','429687d5a','4ecc3f505','cf488d633','9d5c7cb94','f14b57b8f','95aea9233','ddea5dc65','c8fdf5cbf','e43343256','acc4a8e68' ]\n",
    "#extreme_w_unodered_16 = [ 'f115e74c0','587a5d8c3','99197edf2','a1995906f','d5dcaa04a','da2a2f42d','5b9e32dbe','ec2a9147d','1ba077222','5ef415428','dd84674d0','e8522c145','f51378159','20ff37b40','68153d35e','280898a2f','cc0045289','193b90919','2c1ed7d88','5bca7197d','5cec9a2fc','1c6c0ffb1','799625b2f','3607eabff','5bf913a56','003da5628','d14ac08a8','86f0ede14','45226872a','fbbd5f5ae','edc3f10a1','0f2b86f4a','5b714cd7a','a8b6710d0','e6c050854','7610d0f28','c00356999','05e427fe8','34b2a678e','09184c121' ]\n",
    "#extreme_w_unodered_18 = [ '5a86cabd0','9a9b4a012','256f1449f','89a26cda9','7fd7c9eae','95837bbfb','4f325b517','e14727834','049e4daae','24fef0850','722a0187a','db1b70fc8','abace6b29','55e30b08f','9b8eff1d7','3ebf86dd5','29c64fa08','248db7ce7','1930cefda','4f0d3819a','9fe78f046','0ae364eb9','b7ae337fe','57e01acca','82c164590','d6be59f6a','849c542c3','916ac9986','545d84e13','17a6e2978','2d1dd55ed','befe0f9c4','16bf8b4ec','42451bcbf','1ac1a10d6','849c464e7','e92c373a6','21a3176c5','54481feaa','82e9efdd8' ]\n",
    "#extreme_w_unodered_21 = [ 'd80abf8bc','60cb16e88','851697562','5d60b9ba7','7194699cd','8984e4066','9ddd6d137','b66bf9d44','a636266f3','e3846e931','6f53aee73','0ccd6454a','6bee3733e','bbd16b7a0','76e9423c3','de7063efa','ea72c62a1','9397535c7','6723b1708','ecbd077d0','03a4ccd7c','c436c7e73','dba14a5d4','5cfc625f1','20e2c484e','c30399758','7f9e0d947','4c48708d8','a2a1975d6','1c4157dfd','e32ad270b','e97fa47e4','74f3ac6af','5adfe7419','02827212f','73a8a4d75','3fa6c395f','b74ef4294','6931ed626','d45fd5508' ]\n",
    "#extreme_w_unodered_27 = [ '30347e683','52695ed4a','aac0c81ba','3a01b4018','5719bbfc3','8677d6620','578a07608','315b44e13','f80259ab3','ba9f3a42c','2ba3b18ee','5150b1a17','649d727e1','135091a07','12d3a67b0','c8c6fe1a0','51c9aee7e','f990bddac','be90775f4','8d4f4c571','b6ae5f5ca','169875559','63df94487','8768af50f','2cc11689d','188a6e279','806dfdd51','8016f08af','19537e282','532740e5d','d918835ca','c33a4095a','23d6be31e','d5d4f936e','5f76b9c2f','a8e878643','651124842','75b846f12','51d5e73a8','3685524f4' ]\n",
    "#extreme_w_unodered_28 = [ '6fec5a793','55d7eb6d2','72ad5471c','dd2fc85d7','7af2b8f44','0b9a18ebf','1ce5f7bde','013127235','99ea04b86','a697e9248','24292d615','48aa6d627','916d17652','1d2df346e','35d9497eb','22b3a9853','94516b63e','0f14ab429','d5de50af2','32313055b','425c08bf3','4a29bc92b','24addf864','42d321127','1cec80910','e4eac6fc5','bbd7e6282','8dbd95b8d','a63aaf7cc','2f489369f','b65627fab','181e91b1c','42b795e64','dbf75ea9f','26419fa97','b93c33953','6a9e2b09d','d08c4204c','015c3e354','defcc2c50' ]\n",
    "\n",
    "# no csv below\n",
    "#extreme_w_unodered_29 = [ '48df886f9','fa977f17b','92e056c5c','0cb171797','dd2fc27b0','8516b48f5','0494ca73d','fcc8443d9','9ca9e4916','4d5a5e150','2ad4525cc','9133963bd','ebbd8432c','166ccc410','02c1bd442','f3250c691','d9ce16f1c','fe56ddf0f','c8ebd62ea','2e768f672','72e970835','15960e710','40e17d035','ddfc3e604','5dd6254bb','fbc6c2b78','07b31de85','6bf90e4f5','1ea08665c','504c7e3bb','a0fe4bb10','0eebebc7c','8c2252655','cb7ecfc41','c75604498','6bb4be4f2','ff96b95eb','bb9aefe00','108fe14ef','31e434a58' ]\n",
    "#extreme_w_unodered_30 = [ 'b04bab75e','9ba5eb33d','ee7c4db36','f6a05ad95','e24e3b26d','ce0ee5a89','44146018f','79af1068d','d0631e6c0','92fd74409','9ddb5842c','5bc10886b','2947535d9','67b44278a','fd5c6c5aa','00c467392','292471107','8fc5f0637','88f64cd8b','2ea3f3caf','572f63ba5','dcf8a669f','098913433','0926408ae','ef2056ce5','adc894423','9ee0b383b','c611e1778','42ebbcafa','32ebdadbc','b5c9b4e39','63688d3df','b1a7086ac','77f5250e3','2c97120d8','b8fde5765','fe919be32','831a9e087','8afae1db8','fb36b89d9' ]\n",
    "# copy 31 \n",
    "#extreme_w_unodered_49 = [ '34b15f335','cff75dd09','6c7a4567c','aab0aeb4b','bc2eb559b','96be55d28','89e69d1a3','3c649dad8','e05e1751c','93715fe15','4415f4c2b','f65d1049f','36d75938f','1ecd56251','4b15885d8','262e3fc42','1da5c1b6b','d1a5f5c20','fa422ab84','56e98e3ad','c4e5eb1f1','be83085df','ad064d609','e7962beb9','023bc78d8','b2bc178d8','f0742e2c4','57b902085','1614f0f84','489dde24b','41016a42a','96d9b7754','cba573a9d','befca8b7e','831cebed2','ef38209dc','e2c21c4bc','bbcb92ecf','667132e4b','6eebf3ca4' ]\n",
    "#extreme_w_unodered_32 = [ 'a04684f1f','eb4dc2cdf','1a5a424f8','14fd68c51','464676511','fac54bd7e','4d2c7622d','6cd62da62','f96fc0e40','912028f4e','ed6e7fdaf','49a10e089','e9f57e5c6','70b564f7b','6dae32858','f902239b9','438d61d86','a5fb00d9b','68084ece1','089ff7bcb','f553483a0','09a65c3a5','a2d1008bb','8579b0968','807c7f49d','7be4eb1e5','721c60041','f8a3bb673','18976b9f5','767b6d272','8e978ee65','5a648a09d','b7ce8464e','690c387d6','c2d94313f','d49b0b346','1d802b493','7cd18fa5c','b200c8b4a','7df9efba5' ]\n",
    "#extreme_w_unodered_33 = [ '69d8b4020','d8fa4d098','0544dfc09','2b5c2a7ad','26e4ae773','be3b11d9b','0dfd57950','8b7190599','ed495216f','fc34bcb91','159eb4fbc','e3cf0fd08','ed2f00d46','d30ff01f8','c5e3535d2','273fa781d','4b7b665ba','e9d64c20a','a8885cde4','2eaf9a838','26b2adb65','0933930b4','5cab25704','4a20b79b4','6f7e5f4ca','4c457a635','467aabbb0','d233c64b4','78b3125cf','5c79d86bc','d73900784','bf35dbb69','307ab31b9','8d667ce31','8c2fd48f8','6240a7bd9','d9f2406e6','92be22dae','455b1d1ae','5f7d60408' ]\n",
    "#extreme_w_unodered_34 = [ 'dc135562a','d6bca77b4','dc6676b1f','8389fa5f0','b15a468b2','2f8931894','eae6fc02f','dd19c0b80','2dd0e885c','7650524a3','8ceddccb8','608639adb','af0b98ec8','abc207b83','d8e8397ce','4a3baddf6','1ffee02ec','776c262ad','062f6f3f7','c07f4daba','43ef60caa','54428f346','6d773e96f','8601a29bc','58a1cb6eb','f41af7c85','5f04745bf','2087ed398','203c64df6','098721511','7f80a96a9','0de698985','67db03f3a','e0a18e5b6','bf40c722d','072452760','431e67099','79c8119ae','30609ee5b','46ee7f2c8' ]\n",
    "# extreme_w_unodered_35 = [ '607a7b8f0','a61ce65a2','b1b17b543','4fbcb9f95','b88568883','2b58a21fc','d9dc805dd','1ea2c906f','75de1e5b6','c96615af4','2223c664d','941244262','1084e5813','b78487210','157c8b45f','c3726f249','155f1b1e5','5d80001c0','a513d67d5','f0eee77af','a7f94dd85','d9db07d68','9381024b7','84f287070','9c720c580','950f2c435','1a9501bae','da5814d9b','0cd22b1b5','38bbaa62d','dd01f3999','7ab374cb1','aafb4ec55','e7913a5ce','22b7e449b','9616802bb','f7d385108','170655e35','bc21e80ff','ab7764ead' ]\n",
    "\n",
    "#extreme_w_unodered_40 = [ 'f3b9c0b95','5d5c5ce6d','e421c414e','b3655056c','c65451871','87e6b35f2','bdadd6c34','63895c382','281c556a6','1602cb35d','802ee804e','03490ef8c','7cb53a29a','baa676f41','741684fb0','a5874086d','99b88d0fd','16d7bff2b','0d6d7ec0b','b0e2acd8e','b136976cc','63dfd4552','a77b4afa4','279d380ce','ce6349807','06f44eb79','8909db7d5','a257e4bb9','04fe69e6a','2a83c3267','fae0ce474','7b6e769e4','82f194d54','7a5460b56','b6623bacf','4adae02ea','1847c8140','f0aec6c6b','1de239e78','2a1f6c7f9' ]\n",
    "#extreme_w_unodered_41 = [ '503de0024','530e9b9b8','50640c29c','d5858c659','61b568ab8','aee922a7b','b709fd525','b062e1a6f','cb42584d1','2821ba86f','fd8f1d27f','bb9be3403','ca85585ce','e2e1aaa1e','f1d56af33','4a3c29696','58007f90b','13bfe432c','6804b5b03','fed5f4046','21ba6e2be','17cae1f2a','6ebf9e1d9','0247e4a94','06d24b818','f9a683437','38b2aa032','5c7eb01b4','5a99d7f30','2747680a8','2d5b0ff08','8eac9b173','89347f75a','338651bd1','ce30bda90','2e5424c98','af06d341e','533e43257','83dbedc24','88458cb21' ]\n",
    "#extreme_w_unodered_42 = [ 'd5308d8bc','c330f1a67','eeac16933','664e2800e','c2c4491d5','0b346adbd','2a50e001c','95c85e227','f88e61ae6','0e410eb3d','5ed0abe85','e06b9f40f','b05f4b229','f614aac15','3bfe540f1','c89f3ba7e','fc7c8f2e8','abbbf9f82','34cc56e83','a531a4bf0','de06e884c','e0907e883','3b2c972b3','19122191d','fbd6e0a0b','a3d5c2c2a','611d81daa','c25851298','a7f6de992','bb425b41e','01599af81','c15ac04ee','5b055c8ea','9118fd5ca','f684b0a96','96eb14eaf','f859a25b8','2252c7403','52b347cdc','4600aadcf' ]\n",
    "# copy 43\n",
    "#extreme_w_unodered_52 = [ 'c16a7d537','e0f6a993a','506e25985','3377a30e2','1d79bc053','7bf58da23','034bec11b','83e2ae51c','2c338b4d6','dee882846','11b0ebe2a','89db78d8e','0db69e82d','268040457','6e00fdaad','940151347','f34f48706','ce3c09a74','a8ef2a0d2','912f4f5de','ea397d576','19f721ba0','ca6c23686','13d853d22','17e2a7989','cb162bd89','45cda25bb','357a1f6b5','2e762ec53','85f50c67d','371ff7a11','f62b69c09','0f49e0f05','94f26b213','1a44834bf','a6182b737','a25bc2d4a','38f5efd6d','67f9e982f','c959d372a' ]\n",
    "#extreme_w_unodered_44 = [ '78a879b5d','f3e544d66','8e7a80f64','63f291ac1','5c613c9de','b266d28ce','5d900b8ce','884ec1cca','da1d826f5','736e55e5f','88204c8b7','533d88707','55c3e1c4e','c1ad8b95a','69e1143e2','a6e843cff','7b922ea8b','dd80d36d7','be8a71172','0e72651fe','91d95575e','3e568d6c3','46291c5d1','9789dc806','982210169','5f6ea2fa9','1413972fe','64d91247f','65ee014d6','46e10e042','4810efa27','36af55ef1','5522157d7','2cbced573','12adc9937','ed76b9206','c5e748f6a','c05e7f369','92f32943a','88263a031' ]\n",
    "\n"
   ]
  },
  {
   "cell_type": "code",
   "execution_count": 533,
   "metadata": {},
   "outputs": [],
   "source": [
    "# copy 40 w_57 = ['4adae02ea', '06f44eb79', '63dfd4552', '2a1f6c7f9', 'b3655056c','7a5460b56', '8909db7d5', 'b0e2acd8e', '7cb53a29a', '281c556a6','04fe69e6a', '87e6b35f2', '1de239e78', 'c65451871', 'b136976cc', 'baa676f41', '82f194d54', 'f3b9c0b95', '2a83c3267', '802ee804e', '99b88d0fd', 'a257e4bb9', 'fae0ce474', '16d7bff2b', 'ce6349807', '1602cb35d', '279d380ce', '63895c382']\n",
    "\n",
    "w_60 = ['0022de2b3', '871617f50', '1de1fda2c', '3a743de4d', '62d2a813b',\n",
    "       'b91632873', '8990c918e', '782ef399c', '3c556d78f', '2306bf286',\n",
    "       '127972c6a', '337153b58', 'b9e9ec060', '4c256f2f9', '04e06920e',\n",
    "       'a04f3e320', '7e09648c9', '5ca0b9b0c', '2a728c5fd', 'f13fa756f',\n",
    "       '553d643d5', '97b387235', '9a3f53be7', '16c5d9c01', '1d0affea2',\n",
    "       'd59047bd3', 'ce734c365', 'a8c7f5c13', '49131c9e6', '6dcac05e7']\n",
    "\n",
    "w_61 = ['4647da55a', 'ad327fcc0', '59de861ff', '224a28832', 'd53c850fd',\n",
    "       '0c5eaf8a7', 'bfde2aa61', '07cfb1624', '6c7bf200b', 'c6e8b5b5c',\n",
    "       '28b21c1d2', '5d26f4d92', '7d72d6787', 'f9a30f20a', '37e85aa12',\n",
    "       'bb37ae1db', '8966b4eee', '869a169f9', '15bba6b9e', '2e648ce4b',\n",
    "       '598ae7ea9', '45713ba5f', '8c2e787b0', '22b3e64c8', 'a8b66bc96',\n",
    "       'c4ed18259', '83640132', 'bacadce94', '4cddcef3e', '3b583a709']\n",
    "\n",
    "w_68 = ['4f51be24e', 'aabb9253a', 'aa2e796b4', '797fddbe0', 'cc7fb2857',\n",
    "       'a0fc89621', 'bf6f90180', '1137a0518', '6a275e7ec', '99ce7894e',\n",
    "       'daf731030', 'b335915da', 'eeae7ad90', '64819a74c', '38d8de2d6',\n",
    "       'cd27ccedf', 'b79729525', '5894b1b1a', '4eb8d43ec', 'b34eff664',\n",
    "       '8d0774750', '718ce36a5', '942b3234c', '9c1d27a5c', '21b0cdc34',\n",
    "       '50ad55eff', '3d3d91a1e']\n",
    "\n",
    "w_70 = ['ee95f6389', '8c00634d1', '7497a6bc9', '5a1183b8c', '5df2068b0',\n",
    "       '1d1cafe32', '76c1e9617', 'cb22f8a26', '4e2abc4ad', 'a3aaa5247',\n",
    "       'e0271a62a', '3187cfde0', '103b8a033', '2f0c89344', '0aaed8bea',\n",
    "       '540208409', 'a403d93e5', 'a77d3eb03', 'f66191951', '15dba7177',\n",
    "       'f99cf5205', 'be48c4ba8', '22c90caf8', 'b8f039d1c', 'e79476d44']\n"
   ]
  },
  {
   "cell_type": "code",
   "execution_count": 9,
   "metadata": {},
   "outputs": [
    {
     "data": {
      "text/html": [
       "<div>\n",
       "<style scoped>\n",
       "    .dataframe tbody tr th:only-of-type {\n",
       "        vertical-align: middle;\n",
       "    }\n",
       "\n",
       "    .dataframe tbody tr th {\n",
       "        vertical-align: top;\n",
       "    }\n",
       "\n",
       "    .dataframe thead th {\n",
       "        text-align: right;\n",
       "    }\n",
       "</style>\n",
       "<table border=\"1\" class=\"dataframe\">\n",
       "  <thead>\n",
       "    <tr style=\"text-align: right;\">\n",
       "      <th></th>\n",
       "      <th>aca228668</th>\n",
       "      <th>bc70cbc26</th>\n",
       "      <th>0dc4d6c7d</th>\n",
       "      <th>a6e871369</th>\n",
       "      <th>7e814a30d</th>\n",
       "      <th>939f628a7</th>\n",
       "      <th>794e93ca6</th>\n",
       "      <th>070f95c99</th>\n",
       "      <th>2155f5e16</th>\n",
       "      <th>b85fa8b27</th>\n",
       "      <th>...</th>\n",
       "      <th>b22eb2036</th>\n",
       "      <th>7f0d863ba</th>\n",
       "      <th>ea3f3029c</th>\n",
       "      <th>e70581bed</th>\n",
       "      <th>c30399758</th>\n",
       "      <th>6bf90e4f5</th>\n",
       "      <th>adbe5fd20</th>\n",
       "      <th>b87e3036b</th>\n",
       "      <th>b88e5de84</th>\n",
       "      <th>33ed23348</th>\n",
       "    </tr>\n",
       "  </thead>\n",
       "  <tbody>\n",
       "    <tr>\n",
       "      <th>strange_number_cnt</th>\n",
       "      <td>36</td>\n",
       "      <td>35</td>\n",
       "      <td>34</td>\n",
       "      <td>33</td>\n",
       "      <td>32</td>\n",
       "      <td>31</td>\n",
       "      <td>30</td>\n",
       "      <td>30</td>\n",
       "      <td>29</td>\n",
       "      <td>28</td>\n",
       "      <td>...</td>\n",
       "      <td>0</td>\n",
       "      <td>0</td>\n",
       "      <td>0</td>\n",
       "      <td>0</td>\n",
       "      <td>0</td>\n",
       "      <td>0</td>\n",
       "      <td>0</td>\n",
       "      <td>0</td>\n",
       "      <td>0</td>\n",
       "      <td>0</td>\n",
       "    </tr>\n",
       "  </tbody>\n",
       "</table>\n",
       "<p>1 rows × 50 columns</p>\n",
       "</div>"
      ],
      "text/plain": [
       "                    aca228668  bc70cbc26  0dc4d6c7d  a6e871369  7e814a30d  \\\n",
       "strange_number_cnt         36         35         34         33         32   \n",
       "\n",
       "                    939f628a7  794e93ca6  070f95c99  2155f5e16  b85fa8b27  \\\n",
       "strange_number_cnt         31         30         30         29         28   \n",
       "\n",
       "                      ...      b22eb2036  7f0d863ba  ea3f3029c  e70581bed  \\\n",
       "strange_number_cnt    ...              0          0          0          0   \n",
       "\n",
       "                    c30399758  6bf90e4f5  adbe5fd20  b87e3036b  b88e5de84  \\\n",
       "strange_number_cnt          0          0          0          0          0   \n",
       "\n",
       "                    33ed23348  \n",
       "strange_number_cnt          0  \n",
       "\n",
       "[1 rows x 50 columns]"
      ]
     },
     "execution_count": 9,
     "metadata": {},
     "output_type": "execute_result"
    }
   ],
   "source": [
    "res_cnt = dict((c, (train[c].values==1964666.66).sum()) for c in train.columns[2:])\n",
    "res_cnt = pd.DataFrame.from_dict(res_cnt, orient='index', columns=['strange_number_cnt'])\n",
    "res_cnt = res_cnt.sort_values('strange_number_cnt', 0, False)\n",
    "res_cnt.head(50).T"
   ]
  },
  {
   "cell_type": "code",
   "execution_count": 10,
   "metadata": {},
   "outputs": [
    {
     "data": {
      "text/html": [
       "<div>\n",
       "<style scoped>\n",
       "    .dataframe tbody tr th:only-of-type {\n",
       "        vertical-align: middle;\n",
       "    }\n",
       "\n",
       "    .dataframe tbody tr th {\n",
       "        vertical-align: top;\n",
       "    }\n",
       "\n",
       "    .dataframe thead th {\n",
       "        text-align: right;\n",
       "    }\n",
       "</style>\n",
       "<table border=\"1\" class=\"dataframe\">\n",
       "  <thead>\n",
       "    <tr style=\"text-align: right;\">\n",
       "      <th></th>\n",
       "      <th>1757</th>\n",
       "      <th>3809</th>\n",
       "      <th>511</th>\n",
       "      <th>3798</th>\n",
       "      <th>625</th>\n",
       "      <th>3303</th>\n",
       "      <th>4095</th>\n",
       "      <th>1283</th>\n",
       "      <th>4209</th>\n",
       "      <th>1696</th>\n",
       "      <th>...</th>\n",
       "      <th>2975</th>\n",
       "      <th>2989</th>\n",
       "      <th>2983</th>\n",
       "      <th>2976</th>\n",
       "      <th>2985</th>\n",
       "      <th>2973</th>\n",
       "      <th>2977</th>\n",
       "      <th>2978</th>\n",
       "      <th>2981</th>\n",
       "      <th>2987</th>\n",
       "    </tr>\n",
       "  </thead>\n",
       "  <tbody>\n",
       "    <tr>\n",
       "      <th>strange_number_cnt</th>\n",
       "      <td>39</td>\n",
       "      <td>38</td>\n",
       "      <td>37</td>\n",
       "      <td>36</td>\n",
       "      <td>35</td>\n",
       "      <td>34</td>\n",
       "      <td>33</td>\n",
       "      <td>31</td>\n",
       "      <td>30</td>\n",
       "      <td>29</td>\n",
       "      <td>...</td>\n",
       "      <td>0</td>\n",
       "      <td>0</td>\n",
       "      <td>0</td>\n",
       "      <td>0</td>\n",
       "      <td>0</td>\n",
       "      <td>0</td>\n",
       "      <td>0</td>\n",
       "      <td>0</td>\n",
       "      <td>0</td>\n",
       "      <td>0</td>\n",
       "    </tr>\n",
       "  </tbody>\n",
       "</table>\n",
       "<p>1 rows × 50 columns</p>\n",
       "</div>"
      ],
      "text/plain": [
       "                    1757  3809  511   3798  625   3303  4095  1283  4209  \\\n",
       "strange_number_cnt    39    38    37    36    35    34    33    31    30   \n",
       "\n",
       "                    1696  ...   2975  2989  2983  2976  2985  2973  2977  \\\n",
       "strange_number_cnt    29  ...      0     0     0     0     0     0     0   \n",
       "\n",
       "                    2978  2981  2987  \n",
       "strange_number_cnt     0     0     0  \n",
       "\n",
       "[1 rows x 50 columns]"
      ]
     },
     "execution_count": 10,
     "metadata": {},
     "output_type": "execute_result"
    }
   ],
   "source": [
    "#tmp = train.iloc[:, 2:].values\n",
    "#res_t_cnt = dict((idx, (tmp[i, :]==1964666.66).sum()) for i,idx in enumerate(train.index))\n",
    "#res_t_cnt = pd.DataFrame.from_dict(res_t_cnt, orient='index', columns=['strange_number_cnt'])\n",
    "#res_t_cnt = res_t_cnt.sort_values('strange_number_cnt', 0, False)\n",
    "#res_t_cnt.head(50).T"
   ]
  },
  {
   "cell_type": "code",
   "execution_count": 118,
   "metadata": {},
   "outputs": [],
   "source": [
    "X = train.loc[paradox_rows, [f for f in train.columns if f not in [\"ID\", \"target\"]]]\n",
    "C = paradox_rows\n",
    "sorted_col_paradox = X.T.sort_values(C).T\n",
    "#sorted_col_paradox.to_csv('sorted_col_paradox_org.csv', index=False)\n",
    "\n",
    "X = train.loc[giba_rows, [f for f in train.columns if f not in [\"ID\", \"target\"]]]\n",
    "C = giba_rows\n",
    "sorted_col_giba = X.T.sort_values(C).T"
   ]
  },
  {
   "cell_type": "code",
   "execution_count": 141,
   "metadata": {},
   "outputs": [],
   "source": [
    "#new_col_last_51 = ['6469d38ef', '22ff4e1b8', 'cf4a89033', '2d7f256c6', 'e98dd91da',\n",
    "#       'bce33962d', 'cdaf3e576', '78b2cf944', 'b3dbb1222', 'a2d707f4e',\n",
    "#       'a5565ec7d', '26b423c42', '2731a96a2', 'c24634d56', 'dc61677e5',\n",
    "#       '62c319fd1', 'fbe583de5', 'ab7534e84', '92eb376f1', '7def2d7d3',\n",
    "#       '657d07d19', 'df08959aa', '48130b04b', 'e0cad27c5', '0b139c060',\n",
    "#       '99df18cb2', '32c6f9aa6', '7ff7d351b', 'e49fea26e', '403e7e48d',\n",
    "#       '2c5809e51', 'fe1160758', 'd83991b80', 'ce999e374', '29e58696d',\n",
    "#       '212226b7b', '950b9cf2d', '208308a47', '2f587f6a4', '23099cfb2']\n",
    "#sorted_col_paradox.loc[:, extreme_w_unodered_29].to_csv(\"paradox_w_29.csv\", index=False)\n",
    "#sorted_col_giba.loc[:, extreme_w_unodered_29].to_csv(\"giba_w_29.csv\", index=False)train_small_window54\n",
    "#train.loc[giba_rows+paradox_rows,extreme_w_unodered_43].to_csv(\"train_small_window43.csv\", index=False)"
   ]
  },
  {
   "cell_type": "code",
   "execution_count": 19,
   "metadata": {},
   "outputs": [],
   "source": [
    "#C = giba_cols.copy()\n",
    "#C.reverse()\n",
    "#X = train.loc[:, C].T\n",
    "#sorted_row = X.T.sort_values(C).T\n",
    "#sorted_row.to_csv('sorted_row_giba_org.csv', index=False)"
   ]
  },
  {
   "cell_type": "code",
   "execution_count": 43,
   "metadata": {},
   "outputs": [],
   "source": [
    "#pd.DataFrame(sorted_col.columns.tolist()).rename(columns={0: 'sorted_col_names'}).to_csv('sorted_col_names.csv', index=False)"
   ]
  },
  {
   "cell_type": "code",
   "execution_count": 549,
   "metadata": {
    "scrolled": true
   },
   "outputs": [],
   "source": [
    "sorted_col_name = \"784b9525e\ta731ff00d\td70d8a779\t232356685\t24218ec6a\tdb45da8ac\t30d63d3e4\ta765da8bc\t42a511316\t14009f037\t912836770\t37a9ea8c6\t600a08d97\tfd1620403\tf7028f7d7\t9751dccde\t8f55955dc\t007ee91d1\tc2d20c241\t80a9ccc6f\t2e00affd6\t569e4df02\t8b6ae05dc\t84947363e\t3313dae3c\t70f29fefd\t5995250df\t976247c5c\taf3b85b31\t12f9c92b6\tf2823f2ac\tdf2e81e3a\taf4035fa0\tc089837ee\td60ddde1b\t34ceb0081\td26b63cf2\teaa0a68c4\tdf2388808\t95f5f514d\""
   ]
  },
  {
   "cell_type": "code",
   "execution_count": 550,
   "metadata": {},
   "outputs": [
    {
     "data": {
      "text/plain": [
       "array(['784b9525e', 'a731ff00d', 'd70d8a779', '232356685', '24218ec6a',\n",
       "       'db45da8ac', '30d63d3e4', 'a765da8bc', '42a511316', '14009f037',\n",
       "       '912836770', '37a9ea8c6', '600a08d97', 'fd1620403', 'f7028f7d7',\n",
       "       '9751dccde', '8f55955dc', '007ee91d1', 'c2d20c241', '80a9ccc6f',\n",
       "       '2e00affd6', '569e4df02', '8b6ae05dc', '84947363e', '3313dae3c',\n",
       "       '70f29fefd', '5995250df', '976247c5c', 'af3b85b31', '12f9c92b6',\n",
       "       'f2823f2ac', 'df2e81e3a', 'af4035fa0', 'c089837ee', 'd60ddde1b',\n",
       "       '34ceb0081', 'd26b63cf2', 'eaa0a68c4', 'df2388808', '95f5f514d'],\n",
       "      dtype='<U9')"
      ]
     },
     "execution_count": 550,
     "metadata": {},
     "output_type": "execute_result"
    }
   ],
   "source": [
    "sorted_col_name = sorted_col_name.split(\"\t\")\n",
    "#sorted_col_name.reverse()\n",
    "np.array(sorted_col_name)"
   ]
  },
  {
   "cell_type": "code",
   "execution_count": 505,
   "metadata": {},
   "outputs": [
    {
     "data": {
      "text/plain": [
       "{'40ad014d1'}"
      ]
     },
     "execution_count": 505,
     "metadata": {},
     "output_type": "execute_result"
    }
   ],
   "source": [
    "a = ['6c9ae21e2', '62b08f1b7', '7b58c8e37', 'a06b69c08', 'e3c802dfd',\n",
    "       '3e7c57d93', 'c87722678', 'cf6038b0f', '6d9ed0315', '6e598606d',\n",
    "       'dc337b6a3', '4b8bf0f83', 'be6c5d3cc', 'daf912b17', 'ae7d89da3',\n",
    "       'ffca57b7b', 'bfab69d22', 'ef10260e3', 'eea23ab04', '19a4e3e16',\n",
    "       '45630adf0', 'f00a70ef6', '495fe6539', 'ce6b81be1', 'ef548a810',\n",
    "       '08d6762f6', '07a53f839', 'f52409b3e', '6b0722bfa', '51cab733f',\n",
    "       '7e86f57c0', '4a921e941', '6b725e99b', '5b523eb92', '84c4fe622',\n",
    "       '36dbda4f6'] + ['22c3db28b', '2c5819699']\n",
    "#a = a.split(\"\t\")\n",
    "b = w_72\n",
    "#len(set(b+a))\n",
    "set(b) - set(a)"
   ]
  },
  {
   "cell_type": "code",
   "execution_count": 498,
   "metadata": {},
   "outputs": [
    {
     "data": {
      "text/plain": [
       "35"
      ]
     },
     "execution_count": 498,
     "metadata": {},
     "output_type": "execute_result"
    }
   ],
   "source": [
    "len(set(['ae28689a2', '39ebfbfd9', '754c502dd', '00fcf67e4', 'f006d9618',\n",
    "       'b778ab129', '9bfdec4bc', '2c2d9f267', '90f77ec55', 'f944d9d43',\n",
    "       '4758340d5', '1210d0271', '54ba515ee', 'ce573744f', '9a5ff8c23',\n",
    "       '2ace87cdd', '8e26b560e', '5e5894826', '467044c26', '0c9b5bcfa',\n",
    "       '7fa4fcee9', '9b6ce40cf', 'b603ed95d', 'c342e8709', '833b35a7c',\n",
    "       'a4346e2e2', 'b4353599c', '9be9c6cef', '45ffef194', 'ecd16fc60',\n",
    "       '5acd26139', '15ecf7b68', '5ee7de0be', 'dc7f76962', '9678b95b7']))"
   ]
  },
  {
   "cell_type": "code",
   "execution_count": 566,
   "metadata": {},
   "outputs": [],
   "source": [
    "w_63 = ['784b9525e', 'a731ff00d', 'd70d8a779', '232356685', '24218ec6a',\n",
    "       'db45da8ac', '30d63d3e4', 'a765da8bc', '42a511316', '14009f037',\n",
    "       '912836770', '37a9ea8c6', '600a08d97', 'fd1620403', 'f7028f7d7',\n",
    "       '9751dccde', '8f55955dc', '007ee91d1', 'c2d20c241', '80a9ccc6f',\n",
    "       '2e00affd6', '569e4df02', '8b6ae05dc', '84947363e', '3313dae3c',\n",
    "       '70f29fefd', '5995250df', '976247c5c', 'af3b85b31', '12f9c92b6',\n",
    "       'f2823f2ac', 'df2e81e3a', 'af4035fa0', 'c089837ee', 'd60ddde1b',\n",
    "       '34ceb0081', 'd26b63cf2', 'eaa0a68c4', 'df2388808', '95f5f514d']\n",
    "\n",
    "interest_row = total[w_63].apply(lambda x: any(x!=0), axis=1)"
   ]
  },
  {
   "cell_type": "code",
   "execution_count": 676,
   "metadata": {},
   "outputs": [
    {
     "name": "stdout",
     "output_type": "stream",
     "text": [
      "0.0\n",
      "78551.65857709563\n",
      "9400000.0\n"
     ]
    },
    {
     "data": {
      "text/plain": [
       "d60ddde1b    [0.0, 464.8016982712684, 791.5896412735055, 10...\n",
       "34ceb0081    [0.0, 720.9401381963944, 815.4750659925728, 13...\n",
       "d26b63cf2    [0.0, 580.7637119716081, 1788.8369608696466, 3...\n",
       "dtype: object"
      ]
     },
     "execution_count": 676,
     "metadata": {},
     "output_type": "execute_result"
    }
   ],
   "source": [
    "X = total[w_63].loc[interest_row].T\n",
    "B = X.iloc[[34,35,36]].apply(lambda x: np.unique(x), axis=1)\n",
    "for i in B[1]:\n",
    "    if i in B[2]:\n",
    "        print(i)\n",
    "B"
   ]
  }
 ],
 "metadata": {
  "kernelspec": {
   "display_name": "Python 3",
   "language": "python",
   "name": "python3"
  },
  "language_info": {
   "codemirror_mode": {
    "name": "ipython",
    "version": 3
   },
   "file_extension": ".py",
   "mimetype": "text/x-python",
   "name": "python",
   "nbconvert_exporter": "python",
   "pygments_lexer": "ipython3",
   "version": "3.6.2"
  }
 },
 "nbformat": 4,
 "nbformat_minor": 2
}
